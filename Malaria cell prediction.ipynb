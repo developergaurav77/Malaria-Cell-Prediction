{
 "cells": [
  {
   "cell_type": "code",
   "execution_count": 1,
   "id": "f3ddacac-7265-4825-b695-6ce4e7656a9c",
   "metadata": {},
   "outputs": [],
   "source": [
    "import numpy as np\n",
    "import pandas as pd\n",
    "import seaborn as sns\n",
    "import matplotlib.pyplot as plt\n",
    "import os"
   ]
  },
  {
   "cell_type": "code",
   "execution_count": 2,
   "id": "83dab43c-5a87-46e7-9cb6-63182d40c6bf",
   "metadata": {},
   "outputs": [],
   "source": [
    "data_dir = 'Data/cell_images/'"
   ]
  },
  {
   "cell_type": "code",
   "execution_count": 3,
   "id": "a588dae1-f5a8-4541-8fa7-a7ebc89dc1f6",
   "metadata": {},
   "outputs": [
    {
     "data": {
      "text/plain": [
       "'Data/cell_images/'"
      ]
     },
     "execution_count": 3,
     "metadata": {},
     "output_type": "execute_result"
    }
   ],
   "source": [
    "data_dir"
   ]
  },
  {
   "cell_type": "code",
   "execution_count": 4,
   "id": "57a2fb39-a9d7-47c1-9198-dc97d53b1774",
   "metadata": {},
   "outputs": [
    {
     "data": {
      "text/plain": [
       "['test', 'train']"
      ]
     },
     "execution_count": 4,
     "metadata": {},
     "output_type": "execute_result"
    }
   ],
   "source": [
    "#os.listdir is used to list all the directories(folders) inside given directory\n",
    "os.listdir(data_dir)"
   ]
  },
  {
   "cell_type": "code",
   "execution_count": 5,
   "id": "c4518168-217b-4d74-98c9-eef183128937",
   "metadata": {},
   "outputs": [],
   "source": [
    "train_path = data_dir + 'train/'"
   ]
  },
  {
   "cell_type": "code",
   "execution_count": 6,
   "id": "5d4080d7-a1fc-45c4-869d-d1632fa2857f",
   "metadata": {},
   "outputs": [],
   "source": [
    "test_path = data_dir + 'test/'"
   ]
  },
  {
   "cell_type": "code",
   "execution_count": 7,
   "id": "9284cbc2-5714-48c8-bed0-4f7e6e07a7e9",
   "metadata": {},
   "outputs": [
    {
     "data": {
      "text/plain": [
       "'Data/cell_images/train/'"
      ]
     },
     "execution_count": 7,
     "metadata": {},
     "output_type": "execute_result"
    }
   ],
   "source": [
    "train_path"
   ]
  },
  {
   "cell_type": "code",
   "execution_count": 8,
   "id": "fccd3f2a-6ae6-45fa-aae5-6c0e1430f43b",
   "metadata": {},
   "outputs": [
    {
     "data": {
      "text/plain": [
       "'Data/cell_images/test/'"
      ]
     },
     "execution_count": 8,
     "metadata": {},
     "output_type": "execute_result"
    }
   ],
   "source": [
    "test_path"
   ]
  },
  {
   "cell_type": "code",
   "execution_count": 9,
   "id": "636633ba-b70b-45b9-b156-f5a66ede57f2",
   "metadata": {},
   "outputs": [
    {
     "data": {
      "text/plain": [
       "['parasitized', 'uninfected']"
      ]
     },
     "execution_count": 9,
     "metadata": {},
     "output_type": "execute_result"
    }
   ],
   "source": [
    "os.listdir(train_path)"
   ]
  },
  {
   "cell_type": "code",
   "execution_count": 10,
   "id": "28a6f93c-47a2-4c64-b747-8e479b2de2b6",
   "metadata": {},
   "outputs": [],
   "source": [
    "para_images = os.listdir(train_path + 'parasitized/')"
   ]
  },
  {
   "cell_type": "code",
   "execution_count": 11,
   "id": "69c93d0b-31b9-469e-a191-8c8124cf2ec2",
   "metadata": {},
   "outputs": [
    {
     "data": {
      "text/plain": [
       "'C100P61ThinF_IMG_20150918_144104_cell_162.png'"
      ]
     },
     "execution_count": 11,
     "metadata": {},
     "output_type": "execute_result"
    }
   ],
   "source": [
    "#para_images - to list all images\n",
    "para_images[0]"
   ]
  },
  {
   "cell_type": "code",
   "execution_count": 12,
   "id": "e6cc6161-185e-4418-b698-e90137c03a9c",
   "metadata": {},
   "outputs": [],
   "source": [
    "para_cell_path = train_path + 'parasitized/' + 'C100P61ThinF_IMG_20150918_144104_cell_162.png'"
   ]
  },
  {
   "cell_type": "code",
   "execution_count": 13,
   "id": "caa4157d-6039-4157-97af-6b2272b46fba",
   "metadata": {},
   "outputs": [
    {
     "data": {
      "text/plain": [
       "'Data/cell_images/train/parasitized/C100P61ThinF_IMG_20150918_144104_cell_162.png'"
      ]
     },
     "execution_count": 13,
     "metadata": {},
     "output_type": "execute_result"
    }
   ],
   "source": [
    "para_cell_path"
   ]
  },
  {
   "cell_type": "code",
   "execution_count": 14,
   "id": "a09effaa-4d91-4098-9a95-6d3876bd1865",
   "metadata": {},
   "outputs": [
    {
     "data": {
      "text/plain": [
       "str"
      ]
     },
     "execution_count": 14,
     "metadata": {},
     "output_type": "execute_result"
    }
   ],
   "source": [
    "type(para_cell_path)"
   ]
  },
  {
   "cell_type": "code",
   "execution_count": 15,
   "id": "f5b356b6-2491-489b-94e5-e293f95895c2",
   "metadata": {},
   "outputs": [],
   "source": [
    "from matplotlib.image import imread"
   ]
  },
  {
   "cell_type": "code",
   "execution_count": 16,
   "id": "7f697ff8-b48b-442a-a7d7-5532264019e0",
   "metadata": {},
   "outputs": [],
   "source": [
    "para_cell = imread(para_cell_path)\n",
    "#it converts an image_path(type-str) to numpy array"
   ]
  },
  {
   "cell_type": "code",
   "execution_count": 17,
   "id": "f4616225-94c8-44b1-ab4b-077f2c4ec258",
   "metadata": {},
   "outputs": [
    {
     "data": {
      "text/plain": [
       "numpy.ndarray"
      ]
     },
     "execution_count": 17,
     "metadata": {},
     "output_type": "execute_result"
    }
   ],
   "source": [
    "type(para_cell)"
   ]
  },
  {
   "cell_type": "code",
   "execution_count": 18,
   "id": "ec6f22ac-586b-4b4a-bbe8-af30f474dbcc",
   "metadata": {},
   "outputs": [
    {
     "data": {
      "text/plain": [
       "3"
      ]
     },
     "execution_count": 18,
     "metadata": {},
     "output_type": "execute_result"
    }
   ],
   "source": [
    "para_cell.ndim"
   ]
  },
  {
   "cell_type": "code",
   "execution_count": 19,
   "id": "7f351771-e348-4ec5-8fac-e6a4b2793fb7",
   "metadata": {},
   "outputs": [
    {
     "data": {
      "text/plain": [
       "(148, 142, 3)"
      ]
     },
     "execution_count": 19,
     "metadata": {},
     "output_type": "execute_result"
    }
   ],
   "source": [
    "para_cell.shape"
   ]
  },
  {
   "cell_type": "code",
   "execution_count": 20,
   "id": "70005cc3-89cb-47b7-b234-f226a13f7c49",
   "metadata": {},
   "outputs": [
    {
     "data": {
      "text/plain": [
       "array([[[0., 0., 0.],\n",
       "        [0., 0., 0.],\n",
       "        [0., 0., 0.],\n",
       "        ...,\n",
       "        [0., 0., 0.],\n",
       "        [0., 0., 0.],\n",
       "        [0., 0., 0.]],\n",
       "\n",
       "       [[0., 0., 0.],\n",
       "        [0., 0., 0.],\n",
       "        [0., 0., 0.],\n",
       "        ...,\n",
       "        [0., 0., 0.],\n",
       "        [0., 0., 0.],\n",
       "        [0., 0., 0.]],\n",
       "\n",
       "       [[0., 0., 0.],\n",
       "        [0., 0., 0.],\n",
       "        [0., 0., 0.],\n",
       "        ...,\n",
       "        [0., 0., 0.],\n",
       "        [0., 0., 0.],\n",
       "        [0., 0., 0.]],\n",
       "\n",
       "       ...,\n",
       "\n",
       "       [[0., 0., 0.],\n",
       "        [0., 0., 0.],\n",
       "        [0., 0., 0.],\n",
       "        ...,\n",
       "        [0., 0., 0.],\n",
       "        [0., 0., 0.],\n",
       "        [0., 0., 0.]],\n",
       "\n",
       "       [[0., 0., 0.],\n",
       "        [0., 0., 0.],\n",
       "        [0., 0., 0.],\n",
       "        ...,\n",
       "        [0., 0., 0.],\n",
       "        [0., 0., 0.],\n",
       "        [0., 0., 0.]],\n",
       "\n",
       "       [[0., 0., 0.],\n",
       "        [0., 0., 0.],\n",
       "        [0., 0., 0.],\n",
       "        ...,\n",
       "        [0., 0., 0.],\n",
       "        [0., 0., 0.],\n",
       "        [0., 0., 0.]]], dtype=float32)"
      ]
     },
     "execution_count": 20,
     "metadata": {},
     "output_type": "execute_result"
    }
   ],
   "source": [
    "para_cell"
   ]
  },
  {
   "cell_type": "code",
   "execution_count": 21,
   "id": "0d49ed36-3dd6-42e8-9876-c7a83c4ba906",
   "metadata": {},
   "outputs": [
    {
     "data": {
      "text/plain": [
       "<matplotlib.image.AxesImage at 0x182e67a8fc8>"
      ]
     },
     "execution_count": 21,
     "metadata": {},
     "output_type": "execute_result"
    },
    {
     "data": {
      "image/png": "[encoded data removed]",
      "text/plain": [
       "<Figure size 432x288 with 1 Axes>"
      ]
     },
     "metadata": {
      "needs_background": "light"
     },
     "output_type": "display_data"
    }
   ],
   "source": [
    "#to show numpy array we use plt.imshow function.\n",
    "plt.imshow(para_cell)"
   ]
  },
  {
   "cell_type": "code",
   "execution_count": 22,
   "id": "5ce88dc9-3d5d-4ed9-9bbb-15e90c79bcf0",
   "metadata": {},
   "outputs": [],
   "source": [
    "#now getting all image path and then converting them to numpy array to get different dimensions of images\n",
    "#it takes few second because it passes through all images in parasitized folders\n",
    "\n",
    "dim1=[] #for first dimension(width)\n",
    "dim2=[] #for second dimension(height)\n",
    "dim3=[] #for third dimension(color channel,3 for real image, 1 for gray-scale image)\n",
    "\n",
    "for single_img in os.listdir(train_path + 'parasitized/'):\n",
    "    img = imread(train_path + 'parasitized/' + single_img)\n",
    "    w,h,c = img.shape\n",
    "    dim1.append(w)\n",
    "    dim2.append(h)\n",
    "    dim3.append(c)\n",
    "#this block of code helps to later calculate mean of image size as we get different sizes of images in real world."
   ]
  },
  {
   "cell_type": "code",
   "execution_count": 23,
   "id": "8af5bb56-f146-42fb-b657-648f475a4eaf",
   "metadata": {},
   "outputs": [
    {
     "data": {
      "text/plain": [
       "<seaborn.axisgrid.JointGrid at 0x182e77d9088>"
      ]
     },
     "execution_count": 23,
     "metadata": {},
     "output_type": "execute_result"
    },
    {
     "data": {
      "image/png": "[encoded data removed]",
      "text/plain": [
       "<Figure size 432x432 with 3 Axes>"
      ]
     },
     "metadata": {
      "needs_background": "light"
     },
     "output_type": "display_data"
    }
   ],
   "source": [
    "#dim1\n",
    "sns.jointplot(dim1,dim2)"
   ]
  },
  {
   "cell_type": "code",
   "execution_count": 24,
   "id": "e0ece49f-2e4b-4761-ae70-26025bc88a25",
   "metadata": {},
   "outputs": [],
   "source": [
    "#since the dimension for each image is different we will take mean of different dimensions of images"
   ]
  },
  {
   "cell_type": "code",
   "execution_count": 25,
   "id": "8ef3efcf-7bcf-4942-a7d2-9e991aa3f6d6",
   "metadata": {},
   "outputs": [
    {
     "data": {
      "text/plain": [
       "134.360205144643"
      ]
     },
     "execution_count": 25,
     "metadata": {},
     "output_type": "execute_result"
    }
   ],
   "source": [
    "np.mean(dim1)"
   ]
  },
  {
   "cell_type": "code",
   "execution_count": 26,
   "id": "46988aa8-81ae-4ea0-b352-347228e23a7a",
   "metadata": {},
   "outputs": [
    {
     "data": {
      "text/plain": [
       "133.66447632021797"
      ]
     },
     "execution_count": 26,
     "metadata": {},
     "output_type": "execute_result"
    }
   ],
   "source": [
    "np.mean(dim2)"
   ]
  },
  {
   "cell_type": "code",
   "execution_count": 27,
   "id": "86795742-a0c6-47f8-af2a-bfdba24c6b96",
   "metadata": {},
   "outputs": [],
   "source": [
    "#setting image shape to 130*130*3\n",
    "img_shape = (130,130,3)"
   ]
  },
  {
   "cell_type": "code",
   "execution_count": 28,
   "id": "840ab8f3-28dd-453c-ba92-539aca159c13",
   "metadata": {},
   "outputs": [],
   "source": [
    "from tensorflow.keras.preprocessing.image import ImageDataGenerator"
   ]
  },
  {
   "cell_type": "code",
   "execution_count": 29,
   "id": "0585004f-7c0e-472c-97e2-02823b99d7c0",
   "metadata": {},
   "outputs": [],
   "source": [
    "img_gen = ImageDataGenerator(rotation_range=20,\n",
    "                             width_shift_range=0.1,\n",
    "                             height_shift_range=0.1,\n",
    "                             shear_range=0.1,\n",
    "                             zoom_range=0.1,\n",
    "                             horizontal_flip=True)"
   ]
  },
  {
   "cell_type": "code",
   "execution_count": 30,
   "id": "9872d8be-7471-4705-9ad3-cec842196f0d",
   "metadata": {},
   "outputs": [],
   "source": [
    "imgg = img_gen.random_transform(para_cell)"
   ]
  },
  {
   "cell_type": "code",
   "execution_count": 31,
   "id": "6bcaa1dd-5d8c-4f85-89b7-1eee30af1c07",
   "metadata": {},
   "outputs": [
    {
     "data": {
      "text/plain": [
       "<matplotlib.image.AxesImage at 0x183068f9c88>"
      ]
     },
     "execution_count": 31,
     "metadata": {},
     "output_type": "execute_result"
    },
    {
     "data": {
      "image/png": "[encoded data removed]",
      "text/plain": [
       "<Figure size 432x288 with 1 Axes>"
      ]
     },
     "metadata": {
      "needs_background": "light"
     },
     "output_type": "display_data"
    }
   ],
   "source": [
    "plt.imshow(imgg)\n",
    "#image after randomly transformed"
   ]
  },
  {
   "cell_type": "code",
   "execution_count": 32,
   "id": "69d7ee36-6391-4b84-b5b1-f12118bea43c",
   "metadata": {},
   "outputs": [
    {
     "data": {
      "text/plain": [
       "<matplotlib.image.AxesImage at 0x182e7878708>"
      ]
     },
     "execution_count": 32,
     "metadata": {},
     "output_type": "execute_result"
    },
    {
     "data": {
      "image/png": "[encoded data removed]",
      "text/plain": [
       "<Figure size 432x288 with 1 Axes>"
      ]
     },
     "metadata": {
      "needs_background": "light"
     },
     "output_type": "display_data"
    }
   ],
   "source": [
    "plt.imshow(para_cell)\n",
    "#orginal image"
   ]
  },
  {
   "cell_type": "code",
   "execution_count": 33,
   "id": "ab254da4-cc1d-4d77-824c-ff5e97736505",
   "metadata": {},
   "outputs": [
    {
     "data": {
      "text/plain": [
       "'Data/cell_images/train/'"
      ]
     },
     "execution_count": 33,
     "metadata": {},
     "output_type": "execute_result"
    }
   ],
   "source": [
    "train_path"
   ]
  },
  {
   "cell_type": "code",
   "execution_count": 34,
   "id": "d2a8b131-40e2-41f3-960b-d6e07c2b28ad",
   "metadata": {},
   "outputs": [
    {
     "data": {
      "text/plain": [
       "['parasitized', 'uninfected']"
      ]
     },
     "execution_count": 34,
     "metadata": {},
     "output_type": "execute_result"
    }
   ],
   "source": [
    "os.listdir(train_path)"
   ]
  },
  {
   "cell_type": "code",
   "execution_count": 35,
   "id": "c6a041c9-3761-4ca3-84b9-b1fc6d45a8bc",
   "metadata": {},
   "outputs": [
    {
     "data": {
      "text/plain": [
       "'Data/cell_images/test/'"
      ]
     },
     "execution_count": 35,
     "metadata": {},
     "output_type": "execute_result"
    }
   ],
   "source": [
    "test_path"
   ]
  },
  {
   "cell_type": "code",
   "execution_count": 36,
   "id": "4a298c6e-e19b-4025-bfa2-c91f35900ca1",
   "metadata": {},
   "outputs": [
    {
     "name": "stdout",
     "output_type": "stream",
     "text": [
      "Found 24958 images belonging to 2 classes.\n"
     ]
    },
    {
     "data": {
      "text/plain": [
       "<tensorflow.python.keras.preprocessing.image.DirectoryIterator at 0x183069b5048>"
      ]
     },
     "execution_count": 36,
     "metadata": {},
     "output_type": "execute_result"
    }
   ],
   "source": [
    "img_gen.flow_from_directory(train_path)"
   ]
  },
  {
   "cell_type": "code",
   "execution_count": 37,
   "id": "07524755-03f0-4f3f-a615-4de118c2fac9",
   "metadata": {},
   "outputs": [
    {
     "name": "stdout",
     "output_type": "stream",
     "text": [
      "Found 2600 images belonging to 2 classes.\n"
     ]
    },
    {
     "data": {
      "text/plain": [
       "<tensorflow.python.keras.preprocessing.image.DirectoryIterator at 0x183069b1948>"
      ]
     },
     "execution_count": 37,
     "metadata": {},
     "output_type": "execute_result"
    }
   ],
   "source": [
    "img_gen.flow_from_directory(test_path)"
   ]
  },
  {
   "cell_type": "code",
   "execution_count": 38,
   "id": "648169fe-94c9-4da9-9e3c-40e459e33491",
   "metadata": {},
   "outputs": [
    {
     "data": {
      "text/plain": [
       "(130, 130)"
      ]
     },
     "execution_count": 38,
     "metadata": {},
     "output_type": "execute_result"
    }
   ],
   "source": [
    "img_shape[:2]"
   ]
  },
  {
   "cell_type": "code",
   "execution_count": 39,
   "id": "7dbe46a1-0c07-4a93-b419-591973ebdd8f",
   "metadata": {},
   "outputs": [],
   "source": [
    "batch_size = 32"
   ]
  },
  {
   "cell_type": "code",
   "execution_count": 40,
   "id": "b70812a3-1373-4df8-b70e-656cd994f420",
   "metadata": {},
   "outputs": [
    {
     "name": "stdout",
     "output_type": "stream",
     "text": [
      "Found 24958 images belonging to 2 classes.\n"
     ]
    }
   ],
   "source": [
    "train_img_generator = img_gen.flow_from_directory(directory=train_path,\n",
    "                                                  target_size=img_shape[:2],\n",
    "                                                  class_mode='binary',\n",
    "                                                  color_mode='rgb',\n",
    "                                                  batch_size=batch_size)#shuffle is true by default."
   ]
  },
  {
   "cell_type": "code",
   "execution_count": 41,
   "id": "b6922f2f-0ea5-4440-8ba2-7ebccfe35e08",
   "metadata": {},
   "outputs": [
    {
     "name": "stdout",
     "output_type": "stream",
     "text": [
      "Found 2600 images belonging to 2 classes.\n"
     ]
    }
   ],
   "source": [
    "test_img_generator = img_gen.flow_from_directory(directory=test_path,\n",
    "                                                 target_size=img_shape[:2],\n",
    "                                                 class_mode='binary',\n",
    "                                                 color_mode='rgb',\n",
    "                                                 shuffle=False,\n",
    "                                                 batch_size=batch_size)#we don't want to shuffle our labels in testing data"
   ]
  },
  {
   "cell_type": "code",
   "execution_count": 42,
   "id": "f1a4c3f9-9b3f-4e37-b7ab-e061c35681aa",
   "metadata": {},
   "outputs": [
    {
     "data": {
      "text/plain": [
       "{'parasitized': 0, 'uninfected': 1}"
      ]
     },
     "execution_count": 42,
     "metadata": {},
     "output_type": "execute_result"
    }
   ],
   "source": [
    "train_img_generator.class_indices"
   ]
  },
  {
   "cell_type": "code",
   "execution_count": 61,
   "id": "956e34d5-c551-43f5-822c-af59fb8d123f",
   "metadata": {},
   "outputs": [
    {
     "data": {
      "text/plain": [
       "array([0, 0, 0, ..., 1, 1, 1])"
      ]
     },
     "execution_count": 61,
     "metadata": {},
     "output_type": "execute_result"
    }
   ],
   "source": [
    "train_img_generator.classes"
   ]
  },
  {
   "cell_type": "markdown",
   "id": "55b6e092-5fb9-4d38-84ae-c58f13b866c7",
   "metadata": {},
   "source": [
    "Model Building"
   ]
  },
  {
   "cell_type": "code",
   "execution_count": 43,
   "id": "88dffe26-56cf-4c76-a963-a54efe63c290",
   "metadata": {},
   "outputs": [],
   "source": [
    "from tensorflow.keras.models import Sequential\n",
    "from tensorflow.keras.layers import Dense, Flatten, Conv2D, MaxPool2D, Dropout\n",
    "from tensorflow.keras.callbacks import EarlyStopping"
   ]
  },
  {
   "cell_type": "code",
   "execution_count": 44,
   "id": "6425ca5b-10e0-4e7d-bb3a-fa4f8008b5c3",
   "metadata": {},
   "outputs": [
    {
     "name": "stdout",
     "output_type": "stream",
     "text": [
      "Model: \"sequential\"\n",
      "_________________________________________________________________\n",
      "Layer (type)                 Output Shape              Param #   \n",
      "=================================================================\n",
      "conv2d (Conv2D)              (None, 130, 130, 32)      896       \n",
      "_________________________________________________________________\n",
      "max_pooling2d (MaxPooling2D) (None, 65, 65, 32)        0         \n",
      "_________________________________________________________________\n",
      "conv2d_1 (Conv2D)            (None, 65, 65, 64)        18496     \n",
      "_________________________________________________________________\n",
      "max_pooling2d_1 (MaxPooling2 (None, 32, 32, 64)        0         \n",
      "_________________________________________________________________\n",
      "conv2d_2 (Conv2D)            (None, 32, 32, 64)        36928     \n",
      "_________________________________________________________________\n",
      "max_pooling2d_2 (MaxPooling2 (None, 16, 16, 64)        0         \n",
      "_________________________________________________________________\n",
      "flatten (Flatten)            (None, 16384)             0         \n",
      "_________________________________________________________________\n",
      "dense (Dense)                (None, 100)               1638500   \n",
      "_________________________________________________________________\n",
      "dropout (Dropout)            (None, 100)               0         \n",
      "_________________________________________________________________\n",
      "dense_1 (Dense)              (None, 1)                 101       \n",
      "=================================================================\n",
      "Total params: 1,694,921\n",
      "Trainable params: 1,694,921\n",
      "Non-trainable params: 0\n",
      "_________________________________________________________________\n"
     ]
    }
   ],
   "source": [
    "model = Sequential()\n",
    "\n",
    "model.add(Conv2D(filters=32,kernel_size=(3,3),activation='relu',input_shape=img_shape,padding='same'))\n",
    "model.add(MaxPool2D(pool_size=(2, 2)))\n",
    "\n",
    "model.add(Conv2D(filters=64,kernel_size=(3,3),activation='relu',padding='same'))\n",
    "model.add(MaxPool2D(pool_size=(2, 2)))\n",
    "\n",
    "model.add(Conv2D(filters=64,kernel_size=(3,3),activation='relu',padding='same'))\n",
    "model.add(MaxPool2D(pool_size=(2, 2)))\n",
    "\n",
    "model.add(Flatten())\n",
    "\n",
    "model.add(Dense(100,activation='relu'))\n",
    "model.add(Dropout(0.5))\n",
    "\n",
    "model.add(Dense(1,activation='sigmoid'))\n",
    "\n",
    "model.summary()"
   ]
  },
  {
   "cell_type": "code",
   "execution_count": 45,
   "id": "47bae7de-d77d-4dda-8ec2-6f8cb4b3419d",
   "metadata": {},
   "outputs": [],
   "source": [
    "model.compile(optimizer='adam',loss='binary_crossentropy',metrics=['accuracy'])"
   ]
  },
  {
   "cell_type": "code",
   "execution_count": 46,
   "id": "5b400295-61c0-4783-81cc-f38725080367",
   "metadata": {},
   "outputs": [],
   "source": [
    "early_stop = EarlyStopping(monitor='val_loss',patience=2,mode='min')"
   ]
  },
  {
   "cell_type": "code",
   "execution_count": 47,
   "id": "35a6e239-695f-4435-955b-d3ae0fc19df7",
   "metadata": {},
   "outputs": [
    {
     "name": "stderr",
     "output_type": "stream",
     "text": [
      "c:\\users\\gaurav\\anaconda3\\envs\\deeplnenv\\lib\\site-packages\\tensorflow\\python\\keras\\engine\\training.py:1940: UserWarning: `Model.fit_generator` is deprecated and will be removed in a future version. Please use `Model.fit`, which supports generators.\n",
      "  warnings.warn('`Model.fit_generator` is deprecated and '\n"
     ]
    },
    {
     "name": "stdout",
     "output_type": "stream",
     "text": [
      "Epoch 1/20\n",
      "780/780 [==============================] - 290s 371ms/step - loss: 1.3659 - accuracy: 0.5294 - val_loss: 0.6874 - val_accuracy: 0.5338\n",
      "Epoch 2/20\n",
      "780/780 [==============================] - 321s 412ms/step - loss: 0.6794 - accuracy: 0.5734 - val_loss: 0.6763 - val_accuracy: 0.5677\n",
      "Epoch 3/20\n",
      "780/780 [==============================] - 338s 433ms/step - loss: 0.6751 - accuracy: 0.5886 - val_loss: 0.6645 - val_accuracy: 0.5996\n",
      "Epoch 4/20\n",
      "780/780 [==============================] - 339s 434ms/step - loss: 0.6684 - accuracy: 0.5983 - val_loss: 0.6477 - val_accuracy: 0.6250\n",
      "Epoch 5/20\n",
      "780/780 [==============================] - 345s 442ms/step - loss: 0.6602 - accuracy: 0.6154 - val_loss: 0.6475 - val_accuracy: 0.6277\n",
      "Epoch 6/20\n",
      "780/780 [==============================] - 346s 443ms/step - loss: 0.6623 - accuracy: 0.6107 - val_loss: 0.6456 - val_accuracy: 0.6212\n",
      "Epoch 7/20\n",
      "780/780 [==============================] - 340s 436ms/step - loss: 0.6525 - accuracy: 0.6240 - val_loss: 0.6422 - val_accuracy: 0.6331\n",
      "Epoch 8/20\n",
      "780/780 [==============================] - 340s 436ms/step - loss: 0.6496 - accuracy: 0.6273 - val_loss: 0.6306 - val_accuracy: 0.6538\n",
      "Epoch 9/20\n",
      "780/780 [==============================] - 344s 441ms/step - loss: 0.6441 - accuracy: 0.6340 - val_loss: 0.6475 - val_accuracy: 0.6350\n",
      "Epoch 10/20\n",
      "780/780 [==============================] - 342s 439ms/step - loss: 0.5441 - accuracy: 0.7236 - val_loss: 0.2450 - val_accuracy: 0.9127\n",
      "Epoch 11/20\n",
      "780/780 [==============================] - 347s 445ms/step - loss: 0.1972 - accuracy: 0.9381 - val_loss: 0.1748 - val_accuracy: 0.9388\n",
      "Epoch 12/20\n",
      "780/780 [==============================] - 347s 444ms/step - loss: 0.1721 - accuracy: 0.9464 - val_loss: 0.1881 - val_accuracy: 0.9415\n",
      "Epoch 13/20\n",
      "780/780 [==============================] - 345s 442ms/step - loss: 0.1670 - accuracy: 0.9492 - val_loss: 0.1656 - val_accuracy: 0.9450\n",
      "Epoch 14/20\n",
      "780/780 [==============================] - 364s 467ms/step - loss: 0.1594 - accuracy: 0.9514 - val_loss: 0.1739 - val_accuracy: 0.9415\n",
      "Epoch 15/20\n",
      "780/780 [==============================] - 392s 502ms/step - loss: 0.1576 - accuracy: 0.9510 - val_loss: 0.1639 - val_accuracy: 0.9465\n",
      "Epoch 16/20\n",
      "780/780 [==============================] - 340s 436ms/step - loss: 0.1554 - accuracy: 0.9522 - val_loss: 0.1578 - val_accuracy: 0.9477\n",
      "Epoch 17/20\n",
      "780/780 [==============================] - 338s 433ms/step - loss: 0.1556 - accuracy: 0.9513 - val_loss: 0.1861 - val_accuracy: 0.9423\n",
      "Epoch 18/20\n",
      "780/780 [==============================] - 336s 431ms/step - loss: 0.1519 - accuracy: 0.9526 - val_loss: 0.1538 - val_accuracy: 0.9504\n",
      "Epoch 19/20\n",
      "780/780 [==============================] - 408s 523ms/step - loss: 0.1516 - accuracy: 0.9525 - val_loss: 0.1488 - val_accuracy: 0.9496\n",
      "Epoch 20/20\n",
      "780/780 [==============================] - 377s 483ms/step - loss: 0.1512 - accuracy: 0.9543 - val_loss: 0.1454 - val_accuracy: 0.9504\n"
     ]
    },
    {
     "data": {
      "text/plain": [
       "<tensorflow.python.keras.callbacks.History at 0x183069a1b48>"
      ]
     },
     "execution_count": 47,
     "metadata": {},
     "output_type": "execute_result"
    }
   ],
   "source": [
    "model.fit_generator(generator=train_img_generator,epochs=20,callbacks=[early_stop],validation_data=test_img_generator)"
   ]
  },
  {
   "cell_type": "code",
   "execution_count": 48,
   "id": "55553ca7-9b7c-4640-8ae1-524ab0f0adeb",
   "metadata": {},
   "outputs": [],
   "source": [
    "loss = pd.DataFrame(model.history.history)"
   ]
  },
  {
   "cell_type": "code",
   "execution_count": 49,
   "id": "d550f7a1-feb0-411a-8819-c2ba9aa0cf7a",
   "metadata": {},
   "outputs": [
    {
     "data": {
      "text/html": [
       "<div>\n",
       "<style scoped>\n",
       "    .dataframe tbody tr th:only-of-type {\n",
       "        vertical-align: middle;\n",
       "    }\n",
       "\n",
       "    .dataframe tbody tr th {\n",
       "        vertical-align: top;\n",
       "    }\n",
       "\n",
       "    .dataframe thead th {\n",
       "        text-align: right;\n",
       "    }\n",
       "</style>\n",
       "<table border=\"1\" class=\"dataframe\">\n",
       "  <thead>\n",
       "    <tr style=\"text-align: right;\">\n",
       "      <th></th>\n",
       "      <th>loss</th>\n",
       "      <th>accuracy</th>\n",
       "      <th>val_loss</th>\n",
       "      <th>val_accuracy</th>\n",
       "    </tr>\n",
       "  </thead>\n",
       "  <tbody>\n",
       "    <tr>\n",
       "      <th>0</th>\n",
       "      <td>1.365932</td>\n",
       "      <td>0.529409</td>\n",
       "      <td>0.687389</td>\n",
       "      <td>0.533846</td>\n",
       "    </tr>\n",
       "    <tr>\n",
       "      <th>1</th>\n",
       "      <td>0.679441</td>\n",
       "      <td>0.573403</td>\n",
       "      <td>0.676272</td>\n",
       "      <td>0.567692</td>\n",
       "    </tr>\n",
       "    <tr>\n",
       "      <th>2</th>\n",
       "      <td>0.675126</td>\n",
       "      <td>0.588589</td>\n",
       "      <td>0.664491</td>\n",
       "      <td>0.599615</td>\n",
       "    </tr>\n",
       "    <tr>\n",
       "      <th>3</th>\n",
       "      <td>0.668401</td>\n",
       "      <td>0.598285</td>\n",
       "      <td>0.647674</td>\n",
       "      <td>0.625000</td>\n",
       "    </tr>\n",
       "    <tr>\n",
       "      <th>4</th>\n",
       "      <td>0.660225</td>\n",
       "      <td>0.615354</td>\n",
       "      <td>0.647498</td>\n",
       "      <td>0.627692</td>\n",
       "    </tr>\n",
       "    <tr>\n",
       "      <th>5</th>\n",
       "      <td>0.662344</td>\n",
       "      <td>0.610706</td>\n",
       "      <td>0.645583</td>\n",
       "      <td>0.621154</td>\n",
       "    </tr>\n",
       "    <tr>\n",
       "      <th>6</th>\n",
       "      <td>0.652467</td>\n",
       "      <td>0.624008</td>\n",
       "      <td>0.642181</td>\n",
       "      <td>0.633077</td>\n",
       "    </tr>\n",
       "    <tr>\n",
       "      <th>7</th>\n",
       "      <td>0.649624</td>\n",
       "      <td>0.627254</td>\n",
       "      <td>0.630636</td>\n",
       "      <td>0.653846</td>\n",
       "    </tr>\n",
       "    <tr>\n",
       "      <th>8</th>\n",
       "      <td>0.644096</td>\n",
       "      <td>0.634025</td>\n",
       "      <td>0.647506</td>\n",
       "      <td>0.635000</td>\n",
       "    </tr>\n",
       "    <tr>\n",
       "      <th>9</th>\n",
       "      <td>0.544129</td>\n",
       "      <td>0.723616</td>\n",
       "      <td>0.245033</td>\n",
       "      <td>0.912692</td>\n",
       "    </tr>\n",
       "    <tr>\n",
       "      <th>10</th>\n",
       "      <td>0.197243</td>\n",
       "      <td>0.938136</td>\n",
       "      <td>0.174771</td>\n",
       "      <td>0.938846</td>\n",
       "    </tr>\n",
       "    <tr>\n",
       "      <th>11</th>\n",
       "      <td>0.172065</td>\n",
       "      <td>0.946390</td>\n",
       "      <td>0.188143</td>\n",
       "      <td>0.941538</td>\n",
       "    </tr>\n",
       "    <tr>\n",
       "      <th>12</th>\n",
       "      <td>0.166960</td>\n",
       "      <td>0.949235</td>\n",
       "      <td>0.165561</td>\n",
       "      <td>0.945000</td>\n",
       "    </tr>\n",
       "    <tr>\n",
       "      <th>13</th>\n",
       "      <td>0.159428</td>\n",
       "      <td>0.951398</td>\n",
       "      <td>0.173903</td>\n",
       "      <td>0.941538</td>\n",
       "    </tr>\n",
       "    <tr>\n",
       "      <th>14</th>\n",
       "      <td>0.157602</td>\n",
       "      <td>0.951038</td>\n",
       "      <td>0.163908</td>\n",
       "      <td>0.946538</td>\n",
       "    </tr>\n",
       "    <tr>\n",
       "      <th>15</th>\n",
       "      <td>0.155444</td>\n",
       "      <td>0.952160</td>\n",
       "      <td>0.157846</td>\n",
       "      <td>0.947692</td>\n",
       "    </tr>\n",
       "    <tr>\n",
       "      <th>16</th>\n",
       "      <td>0.155613</td>\n",
       "      <td>0.951278</td>\n",
       "      <td>0.186103</td>\n",
       "      <td>0.942308</td>\n",
       "    </tr>\n",
       "    <tr>\n",
       "      <th>17</th>\n",
       "      <td>0.151888</td>\n",
       "      <td>0.952600</td>\n",
       "      <td>0.153803</td>\n",
       "      <td>0.950385</td>\n",
       "    </tr>\n",
       "    <tr>\n",
       "      <th>18</th>\n",
       "      <td>0.151582</td>\n",
       "      <td>0.952480</td>\n",
       "      <td>0.148804</td>\n",
       "      <td>0.949615</td>\n",
       "    </tr>\n",
       "    <tr>\n",
       "      <th>19</th>\n",
       "      <td>0.151156</td>\n",
       "      <td>0.954283</td>\n",
       "      <td>0.145421</td>\n",
       "      <td>0.950385</td>\n",
       "    </tr>\n",
       "  </tbody>\n",
       "</table>\n",
       "</div>"
      ],
      "text/plain": [
       "        loss  accuracy  val_loss  val_accuracy\n",
       "0   1.365932  0.529409  0.687389      0.533846\n",
       "1   0.679441  0.573403  0.676272      0.567692\n",
       "2   0.675126  0.588589  0.664491      0.599615\n",
       "3   0.668401  0.598285  0.647674      0.625000\n",
       "4   0.660225  0.615354  0.647498      0.627692\n",
       "5   0.662344  0.610706  0.645583      0.621154\n",
       "6   0.652467  0.624008  0.642181      0.633077\n",
       "7   0.649624  0.627254  0.630636      0.653846\n",
       "8   0.644096  0.634025  0.647506      0.635000\n",
       "9   0.544129  0.723616  0.245033      0.912692\n",
       "10  0.197243  0.938136  0.174771      0.938846\n",
       "11  0.172065  0.946390  0.188143      0.941538\n",
       "12  0.166960  0.949235  0.165561      0.945000\n",
       "13  0.159428  0.951398  0.173903      0.941538\n",
       "14  0.157602  0.951038  0.163908      0.946538\n",
       "15  0.155444  0.952160  0.157846      0.947692\n",
       "16  0.155613  0.951278  0.186103      0.942308\n",
       "17  0.151888  0.952600  0.153803      0.950385\n",
       "18  0.151582  0.952480  0.148804      0.949615\n",
       "19  0.151156  0.954283  0.145421      0.950385"
      ]
     },
     "execution_count": 49,
     "metadata": {},
     "output_type": "execute_result"
    }
   ],
   "source": [
    "loss"
   ]
  },
  {
   "cell_type": "code",
   "execution_count": 50,
   "id": "6d2cd5a3-94ff-446b-a9d8-1c61196abdf5",
   "metadata": {},
   "outputs": [
    {
     "data": {
      "text/plain": [
       "<matplotlib.axes._subplots.AxesSubplot at 0x18313666388>"
      ]
     },
     "execution_count": 50,
     "metadata": {},
     "output_type": "execute_result"
    },
    {
     "data": {
      "image/png": "[encoded data removed]",
      "text/plain": [
       "<Figure size 432x288 with 1 Axes>"
      ]
     },
     "metadata": {
      "needs_background": "light"
     },
     "output_type": "display_data"
    }
   ],
   "source": [
    "loss[['loss','val_loss']].plot()"
   ]
  },
  {
   "cell_type": "code",
   "execution_count": 51,
   "id": "879a5cd3-eaf4-4a6a-a153-a210b1185e5f",
   "metadata": {},
   "outputs": [
    {
     "data": {
      "text/plain": [
       "<matplotlib.axes._subplots.AxesSubplot at 0x18312209588>"
      ]
     },
     "execution_count": 51,
     "metadata": {},
     "output_type": "execute_result"
    },
    {
     "data": {
      "image/png": "[encoded data removed]",
      "text/plain": [
       "<Figure size 432x288 with 1 Axes>"
      ]
     },
     "metadata": {
      "needs_background": "light"
     },
     "output_type": "display_data"
    }
   ],
   "source": [
    "loss[['accuracy','val_accuracy']].plot()"
   ]
  },
  {
   "cell_type": "code",
   "execution_count": 52,
   "id": "3d82f713-2d7a-4e53-8975-5e1baed4068d",
   "metadata": {},
   "outputs": [
    {
     "name": "stderr",
     "output_type": "stream",
     "text": [
      "c:\\users\\gaurav\\anaconda3\\envs\\deeplnenv\\lib\\site-packages\\tensorflow\\python\\keras\\engine\\training.py:1973: UserWarning: `Model.evaluate_generator` is deprecated and will be removed in a future version. Please use `Model.evaluate`, which supports generators.\n",
      "  warnings.warn('`Model.evaluate_generator` is deprecated and '\n"
     ]
    },
    {
     "data": {
      "text/plain": [
       "[0.1500813215970993, 0.9503846168518066]"
      ]
     },
     "execution_count": 52,
     "metadata": {},
     "output_type": "execute_result"
    }
   ],
   "source": [
    "model.evaluate_generator(test_img_generator)"
   ]
  },
  {
   "cell_type": "code",
   "execution_count": 54,
   "id": "fa6287cd-03ff-4ae2-8707-28f0d3e3da32",
   "metadata": {},
   "outputs": [
    {
     "data": {
      "text/plain": [
       "['loss', 'accuracy']"
      ]
     },
     "execution_count": 54,
     "metadata": {},
     "output_type": "execute_result"
    }
   ],
   "source": [
    "model.metrics_names"
   ]
  },
  {
   "cell_type": "code",
   "execution_count": 55,
   "id": "c2859c3c-40ab-4570-bb87-a9e6ca5b8120",
   "metadata": {},
   "outputs": [
    {
     "name": "stderr",
     "output_type": "stream",
     "text": [
      "c:\\users\\gaurav\\anaconda3\\envs\\deeplnenv\\lib\\site-packages\\tensorflow\\python\\keras\\engine\\training.py:2001: UserWarning: `Model.predict_generator` is deprecated and will be removed in a future version. Please use `Model.predict`, which supports generators.\n",
      "  warnings.warn('`Model.predict_generator` is deprecated and '\n"
     ]
    }
   ],
   "source": [
    "pred = model.predict_generator(test_img_generator)"
   ]
  },
  {
   "cell_type": "code",
   "execution_count": 56,
   "id": "50b2bed0-bbfb-4df3-86ca-27aeb64affca",
   "metadata": {},
   "outputs": [
    {
     "data": {
      "text/plain": [
       "array([[5.2630901e-04],\n",
       "       [1.8340349e-04],\n",
       "       [2.5567412e-04],\n",
       "       ...,\n",
       "       [9.5242274e-01],\n",
       "       [9.9076271e-01],\n",
       "       [9.6742809e-01]], dtype=float32)"
      ]
     },
     "execution_count": 56,
     "metadata": {},
     "output_type": "execute_result"
    }
   ],
   "source": [
    "pred"
   ]
  },
  {
   "cell_type": "code",
   "execution_count": 59,
   "id": "9635a735-9b41-4b7b-b7b7-4ede30967ee9",
   "metadata": {},
   "outputs": [
    {
     "data": {
      "text/plain": [
       "array([[False],\n",
       "       [False],\n",
       "       [False],\n",
       "       ...,\n",
       "       [ True],\n",
       "       [ True],\n",
       "       [ True]])"
      ]
     },
     "execution_count": 59,
     "metadata": {},
     "output_type": "execute_result"
    }
   ],
   "source": [
    "#if the prediction is more than 50% then predict it is true i.e 1(uninfected)\n",
    "#similarly if the prediction is less than or equal to 50% then predict it as false i.e 0(parasitized)\n",
    "predd = pred > 0.5\n",
    "predd"
   ]
  },
  {
   "cell_type": "code",
   "execution_count": 60,
   "id": "26096b86-01d8-4b9f-a98e-b35b23dda3b7",
   "metadata": {},
   "outputs": [
    {
     "data": {
      "text/plain": [
       "2600"
      ]
     },
     "execution_count": 60,
     "metadata": {},
     "output_type": "execute_result"
    }
   ],
   "source": [
    "len(pred)"
   ]
  },
  {
   "cell_type": "code",
   "execution_count": 62,
   "id": "568a23ef-7826-4abe-9354-e688b3c2dd4f",
   "metadata": {},
   "outputs": [
    {
     "data": {
      "text/plain": [
       "array([0, 0, 0, ..., 1, 1, 1])"
      ]
     },
     "execution_count": 62,
     "metadata": {},
     "output_type": "execute_result"
    }
   ],
   "source": [
    "test_img_generator.classes"
   ]
  },
  {
   "cell_type": "code",
   "execution_count": 63,
   "id": "75530844-482b-4d71-97a3-3a2bd787939b",
   "metadata": {},
   "outputs": [
    {
     "data": {
      "text/plain": [
       "{'parasitized': 0, 'uninfected': 1}"
      ]
     },
     "execution_count": 63,
     "metadata": {},
     "output_type": "execute_result"
    }
   ],
   "source": [
    "test_img_generator.class_indices"
   ]
  },
  {
   "cell_type": "code",
   "execution_count": 64,
   "id": "332f7559-b428-4ffd-90f5-55188050cfb2",
   "metadata": {},
   "outputs": [],
   "source": [
    "from sklearn.metrics import classification_report, confusion_matrix"
   ]
  },
  {
   "cell_type": "code",
   "execution_count": 65,
   "id": "691969ea-25d1-460e-a622-b9e86e1d21ed",
   "metadata": {},
   "outputs": [
    {
     "name": "stdout",
     "output_type": "stream",
     "text": [
      "              precision    recall  f1-score   support\n",
      "\n",
      "           0       0.97      0.93      0.95      1300\n",
      "           1       0.93      0.97      0.95      1300\n",
      "\n",
      "    accuracy                           0.95      2600\n",
      "   macro avg       0.95      0.95      0.95      2600\n",
      "weighted avg       0.95      0.95      0.95      2600\n",
      "\n"
     ]
    }
   ],
   "source": [
    "print(classification_report(test_img_generator.classes,predd))"
   ]
  },
  {
   "cell_type": "code",
   "execution_count": 66,
   "id": "5bc45bc4-6f66-413f-a32c-9ba0e124beb4",
   "metadata": {},
   "outputs": [
    {
     "name": "stdout",
     "output_type": "stream",
     "text": [
      "[[1206   94]\n",
      " [  38 1262]]\n"
     ]
    }
   ],
   "source": [
    "print(confusion_matrix(test_img_generator.classes,predd))"
   ]
  },
  {
   "cell_type": "code",
   "execution_count": 68,
   "id": "df2092d5-4a8b-43b7-9c51-4d458c8644b6",
   "metadata": {},
   "outputs": [
    {
     "data": {
      "text/plain": [
       "<matplotlib.axes._subplots.AxesSubplot at 0x183136b2fc8>"
      ]
     },
     "execution_count": 68,
     "metadata": {},
     "output_type": "execute_result"
    },
    {
     "data": {
      "image/png": "[encoded data removed]",
      "text/plain": [
       "<Figure size 432x288 with 2 Axes>"
      ]
     },
     "metadata": {
      "needs_background": "light"
     },
     "output_type": "display_data"
    }
   ],
   "source": [
    "sns.heatmap(confusion_matrix(test_img_generator.classes,predd),annot=True)"
   ]
  },
  {
   "cell_type": "code",
   "execution_count": 70,
   "id": "dc146f0e-37fc-4666-a310-48858dbfd2c8",
   "metadata": {},
   "outputs": [
    {
     "data": {
      "text/plain": [
       "'Data/cell_images/train/parasitized/C100P61ThinF_IMG_20150918_144104_cell_162.png'"
      ]
     },
     "execution_count": 70,
     "metadata": {},
     "output_type": "execute_result"
    }
   ],
   "source": [
    "#for new data\n",
    "\n",
    "para_cell_path"
   ]
  },
  {
   "cell_type": "code",
   "execution_count": 71,
   "id": "31fdcc47-5d17-49c6-85e7-f1a48f923982",
   "metadata": {},
   "outputs": [],
   "source": [
    "#to load image we can also keras api\n",
    "from tensorflow.keras.preprocessing import image"
   ]
  },
  {
   "cell_type": "code",
   "execution_count": 85,
   "id": "4ffe32f2-5151-4f2b-a874-3eeba8fc88eb",
   "metadata": {},
   "outputs": [],
   "source": [
    "img = image.load_img(para_cell_path,target_size=(130,130,3))"
   ]
  },
  {
   "cell_type": "code",
   "execution_count": 86,
   "id": "923b00f2-952c-43b6-9788-c9c5b3b51eda",
   "metadata": {},
   "outputs": [
    {
     "data": {
      "image/png": "[encoded data removed]",
      "text/plain": [
       "<PIL.Image.Image image mode=RGB size=130x130 at 0x18313AF13C8>"
      ]
     },
     "execution_count": 86,
     "metadata": {},
     "output_type": "execute_result"
    }
   ],
   "source": [
    "img"
   ]
  },
  {
   "cell_type": "code",
   "execution_count": 87,
   "id": "963edf30-8348-4922-9d0f-bef40bd966cc",
   "metadata": {},
   "outputs": [
    {
     "data": {
      "text/plain": [
       "PIL.Image.Image"
      ]
     },
     "execution_count": 87,
     "metadata": {},
     "output_type": "execute_result"
    }
   ],
   "source": [
    "type(img)"
   ]
  },
  {
   "cell_type": "code",
   "execution_count": 88,
   "id": "779b5766-ec08-44b1-82a6-b37b83fb008b",
   "metadata": {},
   "outputs": [],
   "source": [
    "img_arr = image.img_to_array(img)"
   ]
  },
  {
   "cell_type": "code",
   "execution_count": 89,
   "id": "b9336dcb-e74f-490b-84c9-7f8cfad449cb",
   "metadata": {},
   "outputs": [
    {
     "data": {
      "text/plain": [
       "array([[[0., 0., 0.],\n",
       "        [0., 0., 0.],\n",
       "        [0., 0., 0.],\n",
       "        ...,\n",
       "        [0., 0., 0.],\n",
       "        [0., 0., 0.],\n",
       "        [0., 0., 0.]],\n",
       "\n",
       "       [[0., 0., 0.],\n",
       "        [0., 0., 0.],\n",
       "        [0., 0., 0.],\n",
       "        ...,\n",
       "        [0., 0., 0.],\n",
       "        [0., 0., 0.],\n",
       "        [0., 0., 0.]],\n",
       "\n",
       "       [[0., 0., 0.],\n",
       "        [0., 0., 0.],\n",
       "        [0., 0., 0.],\n",
       "        ...,\n",
       "        [0., 0., 0.],\n",
       "        [0., 0., 0.],\n",
       "        [0., 0., 0.]],\n",
       "\n",
       "       ...,\n",
       "\n",
       "       [[0., 0., 0.],\n",
       "        [0., 0., 0.],\n",
       "        [0., 0., 0.],\n",
       "        ...,\n",
       "        [0., 0., 0.],\n",
       "        [0., 0., 0.],\n",
       "        [0., 0., 0.]],\n",
       "\n",
       "       [[0., 0., 0.],\n",
       "        [0., 0., 0.],\n",
       "        [0., 0., 0.],\n",
       "        ...,\n",
       "        [0., 0., 0.],\n",
       "        [0., 0., 0.],\n",
       "        [0., 0., 0.]],\n",
       "\n",
       "       [[0., 0., 0.],\n",
       "        [0., 0., 0.],\n",
       "        [0., 0., 0.],\n",
       "        ...,\n",
       "        [0., 0., 0.],\n",
       "        [0., 0., 0.],\n",
       "        [0., 0., 0.]]], dtype=float32)"
      ]
     },
     "execution_count": 89,
     "metadata": {},
     "output_type": "execute_result"
    }
   ],
   "source": [
    "img_arr"
   ]
  },
  {
   "cell_type": "code",
   "execution_count": 95,
   "id": "b78ccc49-1b5e-461a-9e15-e7f8ca924813",
   "metadata": {},
   "outputs": [
    {
     "data": {
      "text/plain": [
       "(130, 130, 3)"
      ]
     },
     "execution_count": 95,
     "metadata": {},
     "output_type": "execute_result"
    }
   ],
   "source": [
    "img_arr.shape\n",
    "#shape should be of (1,130,130,3) because our model expect the shape of image in this shape , 1 represents the batch size"
   ]
  },
  {
   "cell_type": "code",
   "execution_count": 91,
   "id": "96b826b4-e151-48fb-827a-d0690817eeea",
   "metadata": {},
   "outputs": [],
   "source": [
    "im = img_arr.reshape(1,130,130,3)\n",
    "#or im = np.expand_dims(img_arr,axis=0)"
   ]
  },
  {
   "cell_type": "code",
   "execution_count": 93,
   "id": "26e64fa0-97b7-481a-ab89-d9355c08916c",
   "metadata": {},
   "outputs": [
    {
     "data": {
      "text/plain": [
       "array([[0.00649691]], dtype=float32)"
      ]
     },
     "execution_count": 93,
     "metadata": {},
     "output_type": "execute_result"
    }
   ],
   "source": [
    "model.predict(im)"
   ]
  },
  {
   "cell_type": "code",
   "execution_count": 94,
   "id": "35db94b8-03c6-4d5b-bc7f-b7092b62fa31",
   "metadata": {},
   "outputs": [
    {
     "name": "stderr",
     "output_type": "stream",
     "text": [
      "c:\\users\\gaurav\\anaconda3\\envs\\deeplnenv\\lib\\site-packages\\tensorflow\\python\\keras\\engine\\sequential.py:455: UserWarning: `model.predict_classes()` is deprecated and will be removed after 2021-01-01. Please use instead:* `np.argmax(model.predict(x), axis=-1)`,   if your model does multi-class classification   (e.g. if it uses a `softmax` last-layer activation).* `(model.predict(x) > 0.5).astype(\"int32\")`,   if your model does binary classification   (e.g. if it uses a `sigmoid` last-layer activation).\n",
      "  warnings.warn('`model.predict_classes()` is deprecated and '\n"
     ]
    },
    {
     "data": {
      "text/plain": [
       "array([[0]])"
      ]
     },
     "execution_count": 94,
     "metadata": {},
     "output_type": "execute_result"
    }
   ],
   "source": [
    "model.predict_classes(im)"
   ]
  },
  {
   "cell_type": "code",
   "execution_count": null,
   "id": "e2f92693-9698-4011-9448-78cc6b6c3dea",
   "metadata": {},
   "outputs": [],
   "source": []
  }
 ],
 "metadata": {
  "kernelspec": {
   "display_name": "Python 3 (ipykernel)",
   "language": "python",
   "name": "python3"
  },
  "language_info": {
   "codemirror_mode": {
    "name": "ipython",
    "version": 3
   },
   "file_extension": ".py",
   "mimetype": "text/x-python",
   "name": "python",
   "nbconvert_exporter": "python",
   "pygments_lexer": "ipython3",
   "version": "3.7.11"
  }
 },
 "nbformat": 4,
 "nbformat_minor": 5
}
